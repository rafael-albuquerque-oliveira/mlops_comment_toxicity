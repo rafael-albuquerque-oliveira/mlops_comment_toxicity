{
 "cells": [
  {
   "cell_type": "code",
   "execution_count": 5,
   "metadata": {},
   "outputs": [],
   "source": [
    "# Import necessary libraries\n",
    "import sys\n",
    "import os\n",
    "\n",
    "# Add the src directory to the system path to import modules\n",
    "sys.path.append(os.path.abspath('..'))\n",
    "\n",
    "from data_loader import DataLoader\n",
    "from text_vectorization import TextVectorizer\n",
    "from dataset_preparation import DatasetPreparation\n",
    "from toxicity_pipeline import ToxicityAnalysisPipeline"
   ]
  },
  {
   "cell_type": "code",
   "execution_count": 7,
   "metadata": {},
   "outputs": [],
   "source": [
    "# Step 1: Load Data\n",
    "data_file = '../data/train.csv.zip'  # Path to your dataset\n",
    "loader = DataLoader(data_file)\n",
    "X, y = loader.load_data()"
   ]
  },
  {
   "cell_type": "code",
   "execution_count": 8,
   "metadata": {},
   "outputs": [],
   "source": [
    "# Step 2: Vectorize Text Data\n",
    "vectorizer = TextVectorizer()\n",
    "vectorizer.fit(X.values)  # Fit on text data"
   ]
  },
  {
   "cell_type": "code",
   "execution_count": 9,
   "metadata": {},
   "outputs": [],
   "source": [
    "vectorized_text = vectorizer.transform(X.values)"
   ]
  },
  {
   "cell_type": "code",
   "execution_count": 10,
   "metadata": {},
   "outputs": [],
   "source": [
    "# Step 3: Prepare Dataset for Training, Validation, and Testing\n",
    "prep = DatasetPreparation(vectorized_text, y)\n",
    "dataset = prep.create_dataset()  # Create TensorFlow Dataset"
   ]
  },
  {
   "cell_type": "code",
   "execution_count": 11,
   "metadata": {},
   "outputs": [],
   "source": [
    "# Step 4: Split Dataset into train/val/test sets\n",
    "train_ds, val_ds, test_ds = prep.split_dataset(dataset)"
   ]
  },
  {
   "cell_type": "code",
   "execution_count": 12,
   "metadata": {},
   "outputs": [
    {
     "name": "stdout",
     "output_type": "stream",
     "text": [
      "Train Dataset Size: 6981\n",
      "Validation Dataset Size: 1994\n",
      "Test Dataset Size: 999\n"
     ]
    }
   ],
   "source": [
    "# Optional: Check shapes of datasets for verification\n",
    "print(f'Train Dataset Size: {len(train_ds)}')\n",
    "print(f'Validation Dataset Size: {len(val_ds)}')\n",
    "print(f'Test Dataset Size: {len(test_ds)}')"
   ]
  },
  {
   "cell_type": "code",
   "execution_count": null,
   "metadata": {},
   "outputs": [],
   "source": []
  }
 ],
 "metadata": {
  "kernelspec": {
   "display_name": "env_mba_ufscar",
   "language": "python",
   "name": "env_mba_ufscar"
  },
  "language_info": {
   "codemirror_mode": {
    "name": "ipython",
    "version": 3
   },
   "file_extension": ".py",
   "mimetype": "text/x-python",
   "name": "python",
   "nbconvert_exporter": "python",
   "pygments_lexer": "ipython3",
   "version": "3.11.4"
  }
 },
 "nbformat": 4,
 "nbformat_minor": 2
}
